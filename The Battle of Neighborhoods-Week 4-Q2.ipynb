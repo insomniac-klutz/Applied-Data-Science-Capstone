{
 "cells": [
  {
   "cell_type": "markdown",
   "metadata": {},
   "source": [
    "<h1 align='center'>Report - Capstone Project - The Battle of Neighborhoods (Week 4)</h1>\n",
    "\n",
    "<h1 align='center'>(Data)</h1>"
   ]
  },
  {
   "cell_type": "markdown",
   "metadata": {},
   "source": [
    "<b>We would be using two sets of data to solve our problem\n",
    "\n",
    "1. World Cities Dataset\n",
    "\n",
    "This dataset helps us locating the cities with their latitudes and longitudes. We use this to standerize our city names and focus on only ~26000 major cities in the world.We do this to ensure that our analysis does not corrupt due two cities having similar names.\n",
    "\n",
    "2. Foursquare API Query\n",
    "\n",
    "We use the explore query to get unique eatries nearby the city center within a 5 km radius. We then cluster them into groups and present them to the user wholly as a group to choose from.\n",
    "\n",
    "A brief overview and examples of data are given below.\n",
    "</b>"
   ]
  },
  {
   "cell_type": "markdown",
   "metadata": {},
   "source": [
    "<b>1. Importing Libraries"
   ]
  },
  {
   "cell_type": "code",
   "execution_count": 7,
   "metadata": {},
   "outputs": [],
   "source": [
    "import numpy as np\n",
    "import pandas as pd\n",
    "\n",
    "from bs4 import BeautifulSoup\n",
    "import requests\n",
    "\n",
    "from geopy.geocoders import Nominatim\n",
    "import folium\n",
    "\n",
    "from sklearn.cluster import KMeans\n",
    "import matplotlib.cm as cm\n",
    "import matplotlib.colors as colors"
   ]
  },
  {
   "cell_type": "markdown",
   "metadata": {},
   "source": [
    "<b>1. Importing World cities dataset aquired from https://simplemaps.com/data/world-cities"
   ]
  },
  {
   "cell_type": "code",
   "execution_count": 8,
   "metadata": {},
   "outputs": [
    {
     "data": {
      "text/plain": [
       "(26569, 11)"
      ]
     },
     "execution_count": 8,
     "metadata": {},
     "output_type": "execute_result"
    }
   ],
   "source": [
    "cities=pd.read_csv(r'D:\\Datasets\\worldcities.csv')\n",
    "cities.shape"
   ]
  },
  {
   "cell_type": "code",
   "execution_count": 20,
   "metadata": {},
   "outputs": [
    {
     "data": {
      "text/html": [
       "<div>\n",
       "<style scoped>\n",
       "    .dataframe tbody tr th:only-of-type {\n",
       "        vertical-align: middle;\n",
       "    }\n",
       "\n",
       "    .dataframe tbody tr th {\n",
       "        vertical-align: top;\n",
       "    }\n",
       "\n",
       "    .dataframe thead th {\n",
       "        text-align: right;\n",
       "    }\n",
       "</style>\n",
       "<table border=\"1\" class=\"dataframe\">\n",
       "  <thead>\n",
       "    <tr style=\"text-align: right;\">\n",
       "      <th></th>\n",
       "      <th>city</th>\n",
       "      <th>city_ascii</th>\n",
       "      <th>lat</th>\n",
       "      <th>lng</th>\n",
       "      <th>country</th>\n",
       "      <th>iso2</th>\n",
       "      <th>iso3</th>\n",
       "      <th>admin_name</th>\n",
       "      <th>capital</th>\n",
       "      <th>population</th>\n",
       "      <th>id</th>\n",
       "      <th>new</th>\n",
       "    </tr>\n",
       "  </thead>\n",
       "  <tbody>\n",
       "    <tr>\n",
       "      <th>0</th>\n",
       "      <td>Tokyo</td>\n",
       "      <td>Tokyo</td>\n",
       "      <td>35.6897</td>\n",
       "      <td>139.6922</td>\n",
       "      <td>Japan</td>\n",
       "      <td>JP</td>\n",
       "      <td>JPN</td>\n",
       "      <td>Tōkyō</td>\n",
       "      <td>primary</td>\n",
       "      <td>37977000.0</td>\n",
       "      <td>1392685764</td>\n",
       "      <td>TokyoTōkyō</td>\n",
       "    </tr>\n",
       "    <tr>\n",
       "      <th>1</th>\n",
       "      <td>Jakarta</td>\n",
       "      <td>Jakarta</td>\n",
       "      <td>-6.2146</td>\n",
       "      <td>106.8451</td>\n",
       "      <td>Indonesia</td>\n",
       "      <td>ID</td>\n",
       "      <td>IDN</td>\n",
       "      <td>Jakarta</td>\n",
       "      <td>primary</td>\n",
       "      <td>34540000.0</td>\n",
       "      <td>1360771077</td>\n",
       "      <td>JakartaJakarta</td>\n",
       "    </tr>\n",
       "    <tr>\n",
       "      <th>2</th>\n",
       "      <td>Delhi</td>\n",
       "      <td>Delhi</td>\n",
       "      <td>28.6600</td>\n",
       "      <td>77.2300</td>\n",
       "      <td>India</td>\n",
       "      <td>IN</td>\n",
       "      <td>IND</td>\n",
       "      <td>Delhi</td>\n",
       "      <td>admin</td>\n",
       "      <td>29617000.0</td>\n",
       "      <td>1356872604</td>\n",
       "      <td>DelhiDelhi</td>\n",
       "    </tr>\n",
       "    <tr>\n",
       "      <th>3</th>\n",
       "      <td>Mumbai</td>\n",
       "      <td>Mumbai</td>\n",
       "      <td>18.9667</td>\n",
       "      <td>72.8333</td>\n",
       "      <td>India</td>\n",
       "      <td>IN</td>\n",
       "      <td>IND</td>\n",
       "      <td>Mahārāshtra</td>\n",
       "      <td>admin</td>\n",
       "      <td>23355000.0</td>\n",
       "      <td>1356226629</td>\n",
       "      <td>MumbaiMahārāshtra</td>\n",
       "    </tr>\n",
       "    <tr>\n",
       "      <th>4</th>\n",
       "      <td>Manila</td>\n",
       "      <td>Manila</td>\n",
       "      <td>14.5958</td>\n",
       "      <td>120.9772</td>\n",
       "      <td>Philippines</td>\n",
       "      <td>PH</td>\n",
       "      <td>PHL</td>\n",
       "      <td>Manila</td>\n",
       "      <td>primary</td>\n",
       "      <td>23088000.0</td>\n",
       "      <td>1608618140</td>\n",
       "      <td>ManilaManila</td>\n",
       "    </tr>\n",
       "  </tbody>\n",
       "</table>\n",
       "</div>"
      ],
      "text/plain": [
       "      city city_ascii      lat       lng      country iso2 iso3   admin_name  \\\n",
       "0    Tokyo      Tokyo  35.6897  139.6922        Japan   JP  JPN        Tōkyō   \n",
       "1  Jakarta    Jakarta  -6.2146  106.8451    Indonesia   ID  IDN      Jakarta   \n",
       "2    Delhi      Delhi  28.6600   77.2300        India   IN  IND        Delhi   \n",
       "3   Mumbai     Mumbai  18.9667   72.8333        India   IN  IND  Mahārāshtra   \n",
       "4   Manila     Manila  14.5958  120.9772  Philippines   PH  PHL       Manila   \n",
       "\n",
       "   capital  population          id                new  \n",
       "0  primary  37977000.0  1392685764         TokyoTōkyō  \n",
       "1  primary  34540000.0  1360771077     JakartaJakarta  \n",
       "2    admin  29617000.0  1356872604         DelhiDelhi  \n",
       "3    admin  23355000.0  1356226629  MumbaiMahārāshtra  \n",
       "4  primary  23088000.0  1608618140       ManilaManila  "
      ]
     },
     "execution_count": 20,
     "metadata": {},
     "output_type": "execute_result"
    }
   ],
   "source": [
    "cities.head()"
   ]
  },
  {
   "cell_type": "markdown",
   "metadata": {},
   "source": [
    "<b>2. Taking the City Name as Input. Lets take Mumbai for example"
   ]
  },
  {
   "cell_type": "code",
   "execution_count": 5,
   "metadata": {},
   "outputs": [
    {
     "name": "stdout",
     "output_type": "stream",
     "text": [
      "Input ascii compatible city name with first letter in uppercase: Mumbai\n",
      "Searching for city Mumbai \n",
      "City found\n"
     ]
    }
   ],
   "source": [
    "city=input('Input ascii compatible city name with first letter in uppercase: ')\n",
    "print('Searching for city {} '.format(city))\n",
    "\n",
    "while (city not in cities['city_ascii'].to_list()):\n",
    "    print(city)\n",
    "    print('Name not found in database')\n",
    "    print('Enter 1 to try again')\n",
    "    print('Enter 0 to exit')\n",
    "    aux=int(input())\n",
    "    if aux==1:\n",
    "        city=input('Input ascii compatible city name with first letter in uppercase: ')\n",
    "        print('Searching for city {} '.format(city))\n",
    "    if aux==0:\n",
    "        raise KeyboardInterrupt\n",
    "\n",
    "print('City found')"
   ]
  },
  {
   "cell_type": "code",
   "execution_count": 6,
   "metadata": {},
   "outputs": [
    {
     "name": "stdout",
     "output_type": "stream",
     "text": [
      "Latitude and longitude values of Mumbai are 18.9667, 72.8333.\n"
     ]
    }
   ],
   "source": [
    "idx=cities[cities['city_ascii']==city].index.values\n",
    "\n",
    "city_latitude = cities.loc[idx[0], 'lat'] # city latitude value\n",
    "city_longitude = cities.loc[idx[0], 'lng'] # city longitude value\n",
    "\n",
    "city_name = cities.loc[idx[0], 'city_ascii'] # city name\n",
    "\n",
    "print('Latitude and longitude values of {} are {}, {}.'.format(city_name, \n",
    "                                                               city_latitude, \n",
    "                                                               city_longitude))"
   ]
  },
  {
   "cell_type": "markdown",
   "metadata": {},
   "source": [
    "<b>2. Initializing Foursquare Attributes"
   ]
  },
  {
   "cell_type": "code",
   "execution_count": 24,
   "metadata": {},
   "outputs": [],
   "source": [
    "CLIENT_ID = '...' # your Foursquare ID\n",
    "CLIENT_SECRET = '...' # your Foursquare Secret\n",
    "VERSION = '20180605' # Foursquare API version\n",
    "LIMIT = 50 # A default Foursquare API limit value"
   ]
  },
  {
   "cell_type": "markdown",
   "metadata": {},
   "source": [
    "<b>3. For Example lets take the city of Mumbai"
   ]
  },
  {
   "cell_type": "code",
   "execution_count": 26,
   "metadata": {},
   "outputs": [],
   "source": [
    "# function that extracts the category of the venue\n",
    "def get_category_type(row):\n",
    "    try:\n",
    "        categories_list = row['categories']\n",
    "    except:\n",
    "        categories_list = row['venue.categories']\n",
    "        \n",
    "    if len(categories_list) == 0:\n",
    "        return None\n",
    "    else:\n",
    "        return categories_list[0]['name']"
   ]
  },
  {
   "cell_type": "markdown",
   "metadata": {},
   "source": [
    "<b>4. Getting eatries categorized as food"
   ]
  },
  {
   "cell_type": "code",
   "execution_count": 27,
   "metadata": {},
   "outputs": [],
   "source": [
    "radius = 5000\n",
    "section='food'\n",
    "\n",
    "url = 'https://api.foursquare.com/v2/venues/explore?&client_id={}&client_secret={}&v={}&ll={},{}&radius={}&limit={}&section={}'.format(\n",
    "    CLIENT_ID, \n",
    "    CLIENT_SECRET, \n",
    "    VERSION, \n",
    "    city_latitude, \n",
    "    city_longitude, \n",
    "    radius, \n",
    "    LIMIT,\n",
    "    section)"
   ]
  },
  {
   "cell_type": "code",
   "execution_count": 28,
   "metadata": {},
   "outputs": [],
   "source": [
    "res = requests.get(url).json()"
   ]
  },
  {
   "cell_type": "code",
   "execution_count": 31,
   "metadata": {},
   "outputs": [],
   "source": [
    "#res"
   ]
  },
  {
   "cell_type": "code",
   "execution_count": 32,
   "metadata": {},
   "outputs": [
    {
     "data": {
      "text/html": [
       "<div>\n",
       "<style scoped>\n",
       "    .dataframe tbody tr th:only-of-type {\n",
       "        vertical-align: middle;\n",
       "    }\n",
       "\n",
       "    .dataframe tbody tr th {\n",
       "        vertical-align: top;\n",
       "    }\n",
       "\n",
       "    .dataframe thead th {\n",
       "        text-align: right;\n",
       "    }\n",
       "</style>\n",
       "<table border=\"1\" class=\"dataframe\">\n",
       "  <thead>\n",
       "    <tr style=\"text-align: right;\">\n",
       "      <th></th>\n",
       "      <th>name</th>\n",
       "      <th>categories</th>\n",
       "      <th>lat</th>\n",
       "      <th>lng</th>\n",
       "    </tr>\n",
       "  </thead>\n",
       "  <tbody>\n",
       "    <tr>\n",
       "      <th>0</th>\n",
       "      <td>Sarvi</td>\n",
       "      <td>Middle Eastern Restaurant</td>\n",
       "      <td>18.966853</td>\n",
       "      <td>72.829221</td>\n",
       "    </tr>\n",
       "    <tr>\n",
       "      <th>1</th>\n",
       "      <td>Jaffer Bhai's Delhi Darbar</td>\n",
       "      <td>Indian Restaurant</td>\n",
       "      <td>18.961417</td>\n",
       "      <td>72.823379</td>\n",
       "    </tr>\n",
       "    <tr>\n",
       "      <th>2</th>\n",
       "      <td>Al Rehmani</td>\n",
       "      <td>Indian Restaurant</td>\n",
       "      <td>18.961843</td>\n",
       "      <td>72.831818</td>\n",
       "    </tr>\n",
       "    <tr>\n",
       "      <th>3</th>\n",
       "      <td>Shalimar Restaurant</td>\n",
       "      <td>Indian Restaurant</td>\n",
       "      <td>18.958180</td>\n",
       "      <td>72.832367</td>\n",
       "    </tr>\n",
       "    <tr>\n",
       "      <th>4</th>\n",
       "      <td>Shree Thaker Bhojnalay</td>\n",
       "      <td>Indian Restaurant</td>\n",
       "      <td>18.951217</td>\n",
       "      <td>72.828326</td>\n",
       "    </tr>\n",
       "  </tbody>\n",
       "</table>\n",
       "</div>"
      ],
      "text/plain": [
       "                         name                 categories        lat        lng\n",
       "0                       Sarvi  Middle Eastern Restaurant  18.966853  72.829221\n",
       "1  Jaffer Bhai's Delhi Darbar          Indian Restaurant  18.961417  72.823379\n",
       "2                  Al Rehmani          Indian Restaurant  18.961843  72.831818\n",
       "3         Shalimar Restaurant          Indian Restaurant  18.958180  72.832367\n",
       "4      Shree Thaker Bhojnalay          Indian Restaurant  18.951217  72.828326"
      ]
     },
     "execution_count": 32,
     "metadata": {},
     "output_type": "execute_result"
    }
   ],
   "source": [
    "venues = res['response']['groups'][0]['items']\n",
    "    \n",
    "nearby_venues_food = pd.json_normalize(venues) # flatten JSON\n",
    "\n",
    "# filter columns\n",
    "filtered_columns = ['venue.name', 'venue.categories', 'venue.location.lat', 'venue.location.lng']\n",
    "nearby_venues_food =nearby_venues_food.loc[:, filtered_columns]\n",
    "\n",
    "# filter the category for each row\n",
    "nearby_venues_food['venue.categories'] = nearby_venues_food.apply(get_category_type, axis=1)\n",
    "\n",
    "# clean columns\n",
    "nearby_venues_food.columns = [col.split(\".\")[-1] for col in nearby_venues_food.columns]\n",
    "\n",
    "nearby_venues_food.head()"
   ]
  },
  {
   "cell_type": "code",
   "execution_count": 33,
   "metadata": {},
   "outputs": [
    {
     "name": "stdout",
     "output_type": "stream",
     "text": [
      "50 venues were returned by Foursquare.\n"
     ]
    }
   ],
   "source": [
    "print('{} venues were returned by Foursquare.'.format(nearby_venues_food.shape[0]))"
   ]
  },
  {
   "cell_type": "markdown",
   "metadata": {},
   "source": [
    "<b>5. Getting eatries categorized as cofee"
   ]
  },
  {
   "cell_type": "code",
   "execution_count": 34,
   "metadata": {},
   "outputs": [],
   "source": [
    "radius = 5000\n",
    "section='cofee'\n",
    "\n",
    "url = 'https://api.foursquare.com/v2/venues/explore?&client_id={}&client_secret={}&v={}&ll={},{}&radius={}&limit={}&section={}'.format(\n",
    "    CLIENT_ID, \n",
    "    CLIENT_SECRET, \n",
    "    VERSION, \n",
    "    city_latitude, \n",
    "    city_longitude, \n",
    "    radius, \n",
    "    LIMIT,\n",
    "    section)"
   ]
  },
  {
   "cell_type": "code",
   "execution_count": 35,
   "metadata": {},
   "outputs": [],
   "source": [
    "res = requests.get(url).json()"
   ]
  },
  {
   "cell_type": "code",
   "execution_count": 36,
   "metadata": {},
   "outputs": [
    {
     "data": {
      "text/html": [
       "<div>\n",
       "<style scoped>\n",
       "    .dataframe tbody tr th:only-of-type {\n",
       "        vertical-align: middle;\n",
       "    }\n",
       "\n",
       "    .dataframe tbody tr th {\n",
       "        vertical-align: top;\n",
       "    }\n",
       "\n",
       "    .dataframe thead th {\n",
       "        text-align: right;\n",
       "    }\n",
       "</style>\n",
       "<table border=\"1\" class=\"dataframe\">\n",
       "  <thead>\n",
       "    <tr style=\"text-align: right;\">\n",
       "      <th></th>\n",
       "      <th>name</th>\n",
       "      <th>categories</th>\n",
       "      <th>lat</th>\n",
       "      <th>lng</th>\n",
       "    </tr>\n",
       "  </thead>\n",
       "  <tbody>\n",
       "    <tr>\n",
       "      <th>0</th>\n",
       "      <td>Richardson and Cruddas</td>\n",
       "      <td>Music Venue</td>\n",
       "      <td>18.966491</td>\n",
       "      <td>72.832793</td>\n",
       "    </tr>\n",
       "    <tr>\n",
       "      <th>1</th>\n",
       "      <td>Sarvi</td>\n",
       "      <td>Middle Eastern Restaurant</td>\n",
       "      <td>18.966853</td>\n",
       "      <td>72.829221</td>\n",
       "    </tr>\n",
       "    <tr>\n",
       "      <th>2</th>\n",
       "      <td>Jaffer Bhai's Delhi Darbar</td>\n",
       "      <td>Indian Restaurant</td>\n",
       "      <td>18.961417</td>\n",
       "      <td>72.823379</td>\n",
       "    </tr>\n",
       "    <tr>\n",
       "      <th>3</th>\n",
       "      <td>Al Rehmani</td>\n",
       "      <td>Indian Restaurant</td>\n",
       "      <td>18.961843</td>\n",
       "      <td>72.831818</td>\n",
       "    </tr>\n",
       "    <tr>\n",
       "      <th>4</th>\n",
       "      <td>Shalimar Restaurant</td>\n",
       "      <td>Indian Restaurant</td>\n",
       "      <td>18.958180</td>\n",
       "      <td>72.832367</td>\n",
       "    </tr>\n",
       "  </tbody>\n",
       "</table>\n",
       "</div>"
      ],
      "text/plain": [
       "                         name                 categories        lat        lng\n",
       "0      Richardson and Cruddas                Music Venue  18.966491  72.832793\n",
       "1                       Sarvi  Middle Eastern Restaurant  18.966853  72.829221\n",
       "2  Jaffer Bhai's Delhi Darbar          Indian Restaurant  18.961417  72.823379\n",
       "3                  Al Rehmani          Indian Restaurant  18.961843  72.831818\n",
       "4         Shalimar Restaurant          Indian Restaurant  18.958180  72.832367"
      ]
     },
     "execution_count": 36,
     "metadata": {},
     "output_type": "execute_result"
    }
   ],
   "source": [
    "venues = res['response']['groups'][0]['items']\n",
    "    \n",
    "nearby_venues_cofee = pd.json_normalize(venues) # flatten JSON\n",
    "\n",
    "# filter columns\n",
    "filtered_columns = ['venue.name', 'venue.categories', 'venue.location.lat', 'venue.location.lng']\n",
    "nearby_venues_cofee =nearby_venues_cofee.loc[:, filtered_columns]\n",
    "\n",
    "# filter the category for each row\n",
    "nearby_venues_cofee['venue.categories'] = nearby_venues_cofee.apply(get_category_type, axis=1)\n",
    "\n",
    "# clean columns\n",
    "nearby_venues_cofee.columns = [col.split(\".\")[-1] for col in nearby_venues_cofee.columns]\n",
    "\n",
    "nearby_venues_cofee.head()"
   ]
  },
  {
   "cell_type": "code",
   "execution_count": 37,
   "metadata": {},
   "outputs": [
    {
     "name": "stdout",
     "output_type": "stream",
     "text": [
      "50 venues were returned by Foursquare.\n"
     ]
    }
   ],
   "source": [
    "print('{} venues were returned by Foursquare.'.format(nearby_venues_cofee.shape[0]))"
   ]
  },
  {
   "cell_type": "markdown",
   "metadata": {},
   "source": [
    "<b>6. Getting eatries categorized as drinks"
   ]
  },
  {
   "cell_type": "code",
   "execution_count": 38,
   "metadata": {},
   "outputs": [],
   "source": [
    "radius = 5000\n",
    "section='drinks'\n",
    "\n",
    "url = 'https://api.foursquare.com/v2/venues/explore?&client_id={}&client_secret={}&v={}&ll={},{}&radius={}&limit={}&section={}'.format(\n",
    "    CLIENT_ID, \n",
    "    CLIENT_SECRET, \n",
    "    VERSION, \n",
    "    city_latitude, \n",
    "    city_longitude, \n",
    "    radius, \n",
    "    LIMIT,\n",
    "    section)"
   ]
  },
  {
   "cell_type": "code",
   "execution_count": 39,
   "metadata": {},
   "outputs": [
    {
     "data": {
      "text/html": [
       "<div>\n",
       "<style scoped>\n",
       "    .dataframe tbody tr th:only-of-type {\n",
       "        vertical-align: middle;\n",
       "    }\n",
       "\n",
       "    .dataframe tbody tr th {\n",
       "        vertical-align: top;\n",
       "    }\n",
       "\n",
       "    .dataframe thead th {\n",
       "        text-align: right;\n",
       "    }\n",
       "</style>\n",
       "<table border=\"1\" class=\"dataframe\">\n",
       "  <thead>\n",
       "    <tr style=\"text-align: right;\">\n",
       "      <th></th>\n",
       "      <th>name</th>\n",
       "      <th>categories</th>\n",
       "      <th>lat</th>\n",
       "      <th>lng</th>\n",
       "    </tr>\n",
       "  </thead>\n",
       "  <tbody>\n",
       "    <tr>\n",
       "      <th>0</th>\n",
       "      <td>Richardson and Cruddas</td>\n",
       "      <td>Music Venue</td>\n",
       "      <td>18.966491</td>\n",
       "      <td>72.832793</td>\n",
       "    </tr>\n",
       "    <tr>\n",
       "      <th>1</th>\n",
       "      <td>Sarvi</td>\n",
       "      <td>Middle Eastern Restaurant</td>\n",
       "      <td>18.966853</td>\n",
       "      <td>72.829221</td>\n",
       "    </tr>\n",
       "    <tr>\n",
       "      <th>2</th>\n",
       "      <td>Jaffer Bhai's Delhi Darbar</td>\n",
       "      <td>Indian Restaurant</td>\n",
       "      <td>18.961417</td>\n",
       "      <td>72.823379</td>\n",
       "    </tr>\n",
       "    <tr>\n",
       "      <th>3</th>\n",
       "      <td>Al Rehmani</td>\n",
       "      <td>Indian Restaurant</td>\n",
       "      <td>18.961843</td>\n",
       "      <td>72.831818</td>\n",
       "    </tr>\n",
       "    <tr>\n",
       "      <th>4</th>\n",
       "      <td>Shalimar Restaurant</td>\n",
       "      <td>Indian Restaurant</td>\n",
       "      <td>18.958180</td>\n",
       "      <td>72.832367</td>\n",
       "    </tr>\n",
       "  </tbody>\n",
       "</table>\n",
       "</div>"
      ],
      "text/plain": [
       "                         name                 categories        lat        lng\n",
       "0      Richardson and Cruddas                Music Venue  18.966491  72.832793\n",
       "1                       Sarvi  Middle Eastern Restaurant  18.966853  72.829221\n",
       "2  Jaffer Bhai's Delhi Darbar          Indian Restaurant  18.961417  72.823379\n",
       "3                  Al Rehmani          Indian Restaurant  18.961843  72.831818\n",
       "4         Shalimar Restaurant          Indian Restaurant  18.958180  72.832367"
      ]
     },
     "execution_count": 39,
     "metadata": {},
     "output_type": "execute_result"
    }
   ],
   "source": [
    "venues = res['response']['groups'][0]['items']\n",
    "    \n",
    "nearby_venues_drinks = pd.json_normalize(venues) # flatten JSON\n",
    "\n",
    "# filter columns\n",
    "filtered_columns = ['venue.name', 'venue.categories', 'venue.location.lat', 'venue.location.lng']\n",
    "nearby_venues_drinks =nearby_venues_drinks.loc[:, filtered_columns]\n",
    "\n",
    "# filter the category for each row\n",
    "nearby_venues_drinks['venue.categories'] = nearby_venues_drinks.apply(get_category_type, axis=1)\n",
    "\n",
    "# clean columns\n",
    "nearby_venues_drinks.columns = [col.split(\".\")[-1] for col in nearby_venues_drinks.columns]\n",
    "\n",
    "nearby_venues_drinks.head()"
   ]
  },
  {
   "cell_type": "code",
   "execution_count": 40,
   "metadata": {},
   "outputs": [],
   "source": [
    "res = requests.get(url).json()"
   ]
  },
  {
   "cell_type": "code",
   "execution_count": 41,
   "metadata": {},
   "outputs": [
    {
     "name": "stdout",
     "output_type": "stream",
     "text": [
      "50 venues were returned by Foursquare.\n"
     ]
    }
   ],
   "source": [
    "print('{} venues were returned by Foursquare.'.format(nearby_venues_drinks.shape[0]))"
   ]
  },
  {
   "cell_type": "markdown",
   "metadata": {},
   "source": [
    "<b>7. Merging All three Datasets and removing duplicates"
   ]
  },
  {
   "cell_type": "code",
   "execution_count": 42,
   "metadata": {},
   "outputs": [],
   "source": [
    "nearby_venues=nearby_venues_food.append(nearby_venues_cofee)\n",
    "nearby_venues=nearby_venues.append(nearby_venues_drinks)"
   ]
  },
  {
   "cell_type": "code",
   "execution_count": 43,
   "metadata": {},
   "outputs": [],
   "source": [
    "nearby_venues=nearby_venues.drop_duplicates()"
   ]
  },
  {
   "cell_type": "code",
   "execution_count": 44,
   "metadata": {},
   "outputs": [
    {
     "data": {
      "text/html": [
       "<div>\n",
       "<style scoped>\n",
       "    .dataframe tbody tr th:only-of-type {\n",
       "        vertical-align: middle;\n",
       "    }\n",
       "\n",
       "    .dataframe tbody tr th {\n",
       "        vertical-align: top;\n",
       "    }\n",
       "\n",
       "    .dataframe thead th {\n",
       "        text-align: right;\n",
       "    }\n",
       "</style>\n",
       "<table border=\"1\" class=\"dataframe\">\n",
       "  <thead>\n",
       "    <tr style=\"text-align: right;\">\n",
       "      <th></th>\n",
       "      <th>name</th>\n",
       "      <th>categories</th>\n",
       "      <th>lat</th>\n",
       "      <th>lng</th>\n",
       "    </tr>\n",
       "  </thead>\n",
       "  <tbody>\n",
       "    <tr>\n",
       "      <th>0</th>\n",
       "      <td>Sarvi</td>\n",
       "      <td>Middle Eastern Restaurant</td>\n",
       "      <td>18.966853</td>\n",
       "      <td>72.829221</td>\n",
       "    </tr>\n",
       "    <tr>\n",
       "      <th>1</th>\n",
       "      <td>Jaffer Bhai's Delhi Darbar</td>\n",
       "      <td>Indian Restaurant</td>\n",
       "      <td>18.961417</td>\n",
       "      <td>72.823379</td>\n",
       "    </tr>\n",
       "    <tr>\n",
       "      <th>2</th>\n",
       "      <td>Al Rehmani</td>\n",
       "      <td>Indian Restaurant</td>\n",
       "      <td>18.961843</td>\n",
       "      <td>72.831818</td>\n",
       "    </tr>\n",
       "    <tr>\n",
       "      <th>3</th>\n",
       "      <td>Shalimar Restaurant</td>\n",
       "      <td>Indian Restaurant</td>\n",
       "      <td>18.958180</td>\n",
       "      <td>72.832367</td>\n",
       "    </tr>\n",
       "    <tr>\n",
       "      <th>4</th>\n",
       "      <td>Shree Thaker Bhojnalay</td>\n",
       "      <td>Indian Restaurant</td>\n",
       "      <td>18.951217</td>\n",
       "      <td>72.828326</td>\n",
       "    </tr>\n",
       "    <tr>\n",
       "      <th>...</th>\n",
       "      <td>...</td>\n",
       "      <td>...</td>\n",
       "      <td>...</td>\n",
       "      <td>...</td>\n",
       "    </tr>\n",
       "    <tr>\n",
       "      <th>42</th>\n",
       "      <td>Haji Ali Juice Centre</td>\n",
       "      <td>Juice Bar</td>\n",
       "      <td>18.978362</td>\n",
       "      <td>72.811248</td>\n",
       "    </tr>\n",
       "    <tr>\n",
       "      <th>43</th>\n",
       "      <td>Four Seasons</td>\n",
       "      <td>Hotel</td>\n",
       "      <td>18.994356</td>\n",
       "      <td>72.820319</td>\n",
       "    </tr>\n",
       "    <tr>\n",
       "      <th>46</th>\n",
       "      <td>Li Bai - St. Regis</td>\n",
       "      <td>Hotel Bar</td>\n",
       "      <td>18.994186</td>\n",
       "      <td>72.823795</td>\n",
       "    </tr>\n",
       "    <tr>\n",
       "      <th>47</th>\n",
       "      <td>Parsi Dairy Farm</td>\n",
       "      <td>Cheese Shop</td>\n",
       "      <td>18.946756</td>\n",
       "      <td>72.831183</td>\n",
       "    </tr>\n",
       "    <tr>\n",
       "      <th>48</th>\n",
       "      <td>Canvas Laugh Club</td>\n",
       "      <td>Comedy Club</td>\n",
       "      <td>18.994482</td>\n",
       "      <td>72.824413</td>\n",
       "    </tr>\n",
       "  </tbody>\n",
       "</table>\n",
       "<p>78 rows × 4 columns</p>\n",
       "</div>"
      ],
      "text/plain": [
       "                          name                 categories        lat  \\\n",
       "0                        Sarvi  Middle Eastern Restaurant  18.966853   \n",
       "1   Jaffer Bhai's Delhi Darbar          Indian Restaurant  18.961417   \n",
       "2                   Al Rehmani          Indian Restaurant  18.961843   \n",
       "3          Shalimar Restaurant          Indian Restaurant  18.958180   \n",
       "4       Shree Thaker Bhojnalay          Indian Restaurant  18.951217   \n",
       "..                         ...                        ...        ...   \n",
       "42       Haji Ali Juice Centre                  Juice Bar  18.978362   \n",
       "43                Four Seasons                      Hotel  18.994356   \n",
       "46          Li Bai - St. Regis                  Hotel Bar  18.994186   \n",
       "47            Parsi Dairy Farm                Cheese Shop  18.946756   \n",
       "48           Canvas Laugh Club                Comedy Club  18.994482   \n",
       "\n",
       "          lng  \n",
       "0   72.829221  \n",
       "1   72.823379  \n",
       "2   72.831818  \n",
       "3   72.832367  \n",
       "4   72.828326  \n",
       "..        ...  \n",
       "42  72.811248  \n",
       "43  72.820319  \n",
       "46  72.823795  \n",
       "47  72.831183  \n",
       "48  72.824413  \n",
       "\n",
       "[78 rows x 4 columns]"
      ]
     },
     "execution_count": 44,
     "metadata": {},
     "output_type": "execute_result"
    }
   ],
   "source": [
    "nearby_venues[:]"
   ]
  },
  {
   "cell_type": "markdown",
   "metadata": {},
   "source": [
    "We will use this data to cluster the shops and provide the categories of eatries to the customers"
   ]
  }
 ],
 "metadata": {
  "kernelspec": {
   "display_name": "Python 3",
   "language": "python",
   "name": "python3"
  },
  "language_info": {
   "codemirror_mode": {
    "name": "ipython",
    "version": 3
   },
   "file_extension": ".py",
   "mimetype": "text/x-python",
   "name": "python",
   "nbconvert_exporter": "python",
   "pygments_lexer": "ipython3",
   "version": "3.8.5"
  }
 },
 "nbformat": 4,
 "nbformat_minor": 4
}
